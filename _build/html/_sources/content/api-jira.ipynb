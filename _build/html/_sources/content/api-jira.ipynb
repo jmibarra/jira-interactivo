{
 "cells": [
  {
   "cell_type": "markdown",
   "id": "e4c2c95d",
   "metadata": {},
   "source": [
    "# 10. API de Jira\n",
    "\n"
   ]
  }
 ],
 "metadata": {},
 "nbformat": 4,
 "nbformat_minor": 5
}
